{
  "nbformat": 4,
  "nbformat_minor": 0,
  "metadata": {
    "colab": {
      "name": "Question3.ipynb",
      "provenance": [],
      "authorship_tag": "ABX9TyP8czc0fLHLWA0VHfYlTRe1",
      "include_colab_link": true
    },
    "kernelspec": {
      "name": "python3",
      "display_name": "Python 3"
    },
    "language_info": {
      "name": "python"
    }
  },
  "cells": [
    {
      "cell_type": "markdown",
      "metadata": {
        "id": "view-in-github",
        "colab_type": "text"
      },
      "source": [
        "<a href=\"https://colab.research.google.com/github/SeyedMehdi110/Per-1/blob/main/Question3.ipynb\" target=\"_parent\"><img src=\"https://colab.research.google.com/assets/colab-badge.svg\" alt=\"Open In Colab\"/></a>"
      ]
    },
    {
      "cell_type": "code",
      "metadata": {
        "id": "1cTyETkfuyJ_"
      },
      "source": [
        "#importing required libraries \n",
        "import numpy as np\n",
        "import pandas as pd\n",
        "from sklearn.model_selection import train_test_split\n",
        "import cvxpy as cp\n",
        "from sklearn.metrics import accuracy_score "
      ],
      "execution_count": 1,
      "outputs": []
    },
    {
      "cell_type": "code",
      "metadata": {
        "id": "Yq_edqtZuyqK"
      },
      "source": [
        "#reading data\n",
        "dataframe = pd.read_csv('train.csv',header = None)\n",
        "\n",
        "dataframe[0].replace(0, -1,inplace = True)\n",
        "y = dataframe[0]\n",
        "X = dataframe.drop([0], axis=1)\n",
        "\n",
        "#splitting data\n",
        "data_train, data_val, label_train, label_val = train_test_split(X, y, test_size=0.42, random_state=1)\n",
        "\n",
        "#importing test data\n",
        "test_set = pd.read_csv('test.csv',header = None)\n",
        "test_set[0].replace(0, -1,inplace = True)\n",
        "\n",
        "label_test = test_set[0]\n",
        "data_test = test_set.drop([0], axis=1)\n",
        "\n",
        "\n",
        "data_train=np.array(data_train)\n",
        "data_test=np.array(data_test)\n",
        "data_val=np.array(data_val)\n",
        "\n",
        "label_train = np.array(label_train)\n",
        "label_test = np.array(label_test)\n",
        "label_val = np.array(label_val)\n"
      ],
      "execution_count": 3,
      "outputs": []
    },
    {
      "cell_type": "code",
      "metadata": {
        "id": "WaJEz4MXuy2E"
      },
      "source": [
        "import numpy as np\n",
        "import cvxopt\n",
        "\n",
        "\n",
        "class SupportVectorMachine(object):\n",
        "    def __init__(self, C=None):\n",
        "        self.C = C\n",
        "\n",
        "        \n",
        "    def fit(self, X, y):\n",
        "        n = X.shape[0]\n",
        "          \n",
        "        # Calculate the Gram matrix.\n",
        "        K = np.zeros((n, n))\n",
        "        for i in range(n):\n",
        "            for j in range(n):\n",
        "                K[i,j] = np.dot(X[i], X[j])\n",
        "        \n",
        "        # Setup necessary matrices to be used in the calculation of the Lagrangian\n",
        "        # multipliers.\n",
        "        P = cvxopt.matrix(np.outer(y,y) * K)        \n",
        "        q = cvxopt.matrix(-np.ones((n,1)))\n",
        "        A = cvxopt.matrix(y.reshape(1,-1))\n",
        "        b = cvxopt.matrix(np.zeros((1,1)))\n",
        "        \n",
        "        if self.C is None:\n",
        "            h = cvxopt.matrix(np.zeros((n, 1)))\n",
        "            G = cvxopt.matrix(-np.eye(n))\n",
        "        else:\n",
        "            G_lower = -np.eye(n)\n",
        "            G_upper = np.eye(n)\n",
        "            h_lower = np.zeros((n,1))\n",
        "            h_upper = np.full((n,1),self.C)\n",
        "            G = cvxopt.matrix(np.concatenate((G_lower, G_upper), axis=0))\n",
        "            h = cvxopt.matrix(np.concatenate((h_lower,h_upper), axis=0))\n",
        "        \n",
        "        solution = cvxopt.solvers.qp(P, q, G, h, A, b)  \n",
        "        \n",
        "        # Extract the Lagrangian multipliers.\n",
        "        self.alphas = (np.array(solution['x'])).flatten()\n",
        "        \n",
        "        self.support_alphas_indices = []\n",
        "        self.support_alphas = []\n",
        "        self.support_vectors = []\n",
        "        self.support_ys = []\n",
        "        \n",
        "        # Determine the support vectors, their associated Lagrangian multipliers and labels.\n",
        "        for i, x in enumerate(self.alphas):\n",
        "            if x > 1e-4:\n",
        "                self.support_alphas_indices.append(i)\n",
        "                self.support_alphas.append(self.alphas[i])\n",
        "                self.support_vectors.append(X[i])\n",
        "                self.support_ys.append(y[i])\n",
        "\n",
        "\n",
        "        print(\"Sum of Alphas= \",np.sum(self.alphas))  \n",
        "        self.support_alphas_indices = np.array(self.support_alphas_indices)\n",
        "        self.support_alphas = np.array(self.support_alphas)\n",
        "        self.support_vectors = np.array(self.support_vectors)\n",
        "        self.support_ys = np.array(self.support_ys)\n",
        "        \n",
        "        isSV = self.alphas > 1e-5\n",
        "        \n",
        "        # Calculate the model intercept.\n",
        "        self.b = 0\n",
        "        for idx, i in enumerate(self.support_alphas_indices):\n",
        "            self.b += self.support_ys[idx]\n",
        "            kernel_vec = K[i]\n",
        "            for j,k,l in zip(self.support_alphas, self.support_ys, kernel_vec[isSV]):\n",
        "                self.b -= (j * k * l)\n",
        "        self.b /= len(self.support_alphas)\n",
        "        \n",
        "        # Calculate the model weights if applicable.\n",
        "        self.w = np.zeros(X.shape[1])\n",
        "        for i in range(len(self.support_alphas)):\n",
        "            multiplier = self.support_alphas[i] * self.support_ys[i]\n",
        "            for x in range(X.shape[1]):\n",
        "                self.w[x] +=  multiplier * self.support_vectors[i][x]\n",
        "\n",
        "            \n",
        "            \n",
        "    def decision_function(self,X):\n",
        "        '''Calculate and return the real valued prediction of the model.'''\n",
        "        try:\n",
        "            if self.w is not None:\n",
        "                return X @ self.w + self.b\n",
        "            else:\n",
        "                preds = []\n",
        "                for x in X:\n",
        "                    summation = 0\n",
        "                    for alpha,y,sv in zip(self.support_alphas, self.support_ys, self.support_vectors):\n",
        "                        summation += alpha * y * self.apply_kernel_function(x,sv)\n",
        "                    preds.append(summation)\n",
        "                return preds + self.b   \n",
        "        except AttributeError:\n",
        "            print('Model not fitted, call \\'fit\\' with appropriate arguments before using model.')\n",
        "            return -1\n",
        "            \n",
        "            \n",
        "    def predict(self,X):\n",
        "        '''Return the models predicted class for each of the given instances.'''\n",
        "        try:\n",
        "            return np.sign(self.decision_function(X))\n",
        "        except AttributeError:\n",
        "            print('Model not fitted, call \\'fit\\' with appropriate arguments before using model.')"
      ],
      "execution_count": 4,
      "outputs": []
    },
    {
      "cell_type": "code",
      "metadata": {
        "colab": {
          "base_uri": "https://localhost:8080/"
        },
        "id": "334d2xzWv8gp",
        "outputId": "adb10887-dd46-4b56-ff75-a56fe8e362de"
      },
      "source": [
        "def svm_train_dual ( data_train , label_train , regularisation_para_C ):\n",
        "  svm_train_dual=SupportVectorMachine(C=regularisation_para_C)\n",
        "  return svm_train_dual.fit(data_train , label_train)\n",
        "\n",
        "\n",
        "##svm_train_dual=SupportVectorMachine(C=100)\n",
        "#svm_train_dual.fit(data_train , label_train)\n",
        "#svm_model_dual = svm_train_dual ( data_train , label_train , 100 )\n",
        "svm_train_dual ( data_train , label_train , 100 )"
      ],
      "execution_count": 5,
      "outputs": [
        {
          "output_type": "stream",
          "name": "stdout",
          "text": [
            "     pcost       dcost       gap    pres   dres\n",
            " 0: -1.8984e+04 -1.4320e+07  4e+07  8e-01  4e-11\n",
            " 1: -1.0566e+04 -4.2388e+06  7e+06  1e-01  3e-11\n",
            " 2: -4.7530e+03 -1.5794e+06  3e+06  4e-02  2e-11\n",
            " 3: -3.8879e+02 -8.0859e+05  1e+06  2e-02  1e-11\n",
            " 4:  2.5749e+03 -5.4135e+05  9e+05  1e-02  1e-11\n",
            " 5:  8.7781e+03 -4.5896e+05  7e+05  6e-03  7e-12\n",
            " 6:  8.3693e+03 -5.3356e+04  8e+04  5e-04  3e-12\n",
            " 7:  2.5347e+03 -3.6284e+03  6e+03  9e-06  9e-13\n",
            " 8:  3.5343e+02 -4.6458e+02  8e+02  8e-09  4e-13\n",
            " 9:  8.8401e+01 -1.9841e+02  3e+02  2e-09  2e-13\n",
            "10:  1.6644e+01 -1.0112e+02  1e+02  5e-10  1e-13\n",
            "11:  1.9277e-01 -9.4623e+01  9e+01  3e-10  1e-13\n",
            "12: -2.0754e+01 -7.0101e+01  5e+01  1e-10  2e-13\n",
            "13: -3.0935e+01 -5.9294e+01  3e+01  3e-11  2e-13\n",
            "14: -3.7930e+01 -4.8861e+01  1e+01  9e-12  2e-13\n",
            "15: -4.0498e+01 -4.4827e+01  4e+00  9e-15  2e-13\n",
            "16: -4.2193e+01 -4.2654e+01  5e-01  1e-15  2e-13\n",
            "17: -4.2391e+01 -4.2405e+01  1e-02  3e-16  3e-13\n",
            "18: -4.2397e+01 -4.2397e+01  3e-04  8e-15  3e-13\n",
            "19: -4.2397e+01 -4.2397e+01  4e-06  1e-14  3e-13\n",
            "Optimal solution found.\n",
            "Sum of Alphas=  84.7943116851147\n"
          ]
        }
      ]
    },
    {
      "cell_type": "code",
      "metadata": {
        "id": "6sPqOHsnMykD"
      },
      "source": [
        ""
      ],
      "execution_count": null,
      "outputs": []
    }
  ]
}