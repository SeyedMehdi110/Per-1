{
  "nbformat": 4,
  "nbformat_minor": 0,
  "metadata": {
    "colab": {
      "name": "Untitled0.ipynb",
      "provenance": [],
      "authorship_tag": "ABX9TyNCVsFeJDRTow728ICXk3lB",
      "include_colab_link": true
    },
    "kernelspec": {
      "name": "python3",
      "display_name": "Python 3"
    },
    "language_info": {
      "name": "python"
    }
  },
  "cells": [
    {
      "cell_type": "markdown",
      "metadata": {
        "id": "view-in-github",
        "colab_type": "text"
      },
      "source": [
        "<a href=\"https://colab.research.google.com/github/SeyedMehdi110/Per-1/blob/main/Perceptron_final.ipynb\" target=\"_parent\"><img src=\"https://colab.research.google.com/assets/colab-badge.svg\" alt=\"Open In Colab\"/></a>"
      ]
    },
    {
      "cell_type": "code",
      "metadata": {
        "colab": {
          "base_uri": "https://localhost:8080/",
          "height": 224
        },
        "id": "j4VK7wtuvdjj",
        "outputId": "52a984c6-3198-4f86-b8c2-54aef2999f1c"
      },
      "source": [
        "import pandas as pd\n",
        "import numpy as np\n",
        "from sklearn.metrics import accuracy_score\n",
        "import matplotlib.pyplot as plt\n",
        "from sklearn.metrics import confusion_matrix\n",
        "from sklearn.metrics import classification_report\n",
        "from sklearn.metrics import mean_squared_error\n",
        "\n",
        "df=pd.read_table('https://www.csie.ntu.edu.tw/~cjlin/libsvmtools/datasets/binary/diabetes_scale',\n",
        "              sep=r'\\s+\\d+:', engine='python', header=None).loc[:,:]\n",
        "df.head()"
      ],
      "execution_count": 1,
      "outputs": [
        {
          "output_type": "execute_result",
          "data": {
            "text/html": [
              "<div>\n",
              "<style scoped>\n",
              "    .dataframe tbody tr th:only-of-type {\n",
              "        vertical-align: middle;\n",
              "    }\n",
              "\n",
              "    .dataframe tbody tr th {\n",
              "        vertical-align: top;\n",
              "    }\n",
              "\n",
              "    .dataframe thead th {\n",
              "        text-align: right;\n",
              "    }\n",
              "</style>\n",
              "<table border=\"1\" class=\"dataframe\">\n",
              "  <thead>\n",
              "    <tr style=\"text-align: right;\">\n",
              "      <th></th>\n",
              "      <th>0</th>\n",
              "      <th>1</th>\n",
              "      <th>2</th>\n",
              "      <th>3</th>\n",
              "      <th>4</th>\n",
              "      <th>5</th>\n",
              "      <th>6</th>\n",
              "      <th>7</th>\n",
              "      <th>8</th>\n",
              "    </tr>\n",
              "  </thead>\n",
              "  <tbody>\n",
              "    <tr>\n",
              "      <th>0</th>\n",
              "      <td>-1</td>\n",
              "      <td>-0.294118</td>\n",
              "      <td>0.487437</td>\n",
              "      <td>0.180328</td>\n",
              "      <td>-0.292929</td>\n",
              "      <td>-1.000000</td>\n",
              "      <td>0.001490</td>\n",
              "      <td>-0.531170</td>\n",
              "      <td>-0.033333</td>\n",
              "    </tr>\n",
              "    <tr>\n",
              "      <th>1</th>\n",
              "      <td>1</td>\n",
              "      <td>-0.882353</td>\n",
              "      <td>-0.145729</td>\n",
              "      <td>0.081967</td>\n",
              "      <td>-0.414141</td>\n",
              "      <td>-1.000000</td>\n",
              "      <td>-0.207153</td>\n",
              "      <td>-0.766866</td>\n",
              "      <td>-0.666667</td>\n",
              "    </tr>\n",
              "    <tr>\n",
              "      <th>2</th>\n",
              "      <td>-1</td>\n",
              "      <td>-0.058824</td>\n",
              "      <td>0.839196</td>\n",
              "      <td>0.049180</td>\n",
              "      <td>-1.000000</td>\n",
              "      <td>-1.000000</td>\n",
              "      <td>-0.305514</td>\n",
              "      <td>-0.492741</td>\n",
              "      <td>-0.633333</td>\n",
              "    </tr>\n",
              "    <tr>\n",
              "      <th>3</th>\n",
              "      <td>1</td>\n",
              "      <td>-0.882353</td>\n",
              "      <td>-0.105528</td>\n",
              "      <td>0.081967</td>\n",
              "      <td>-0.535354</td>\n",
              "      <td>-0.777778</td>\n",
              "      <td>-0.162444</td>\n",
              "      <td>-0.923997</td>\n",
              "      <td>-1.000000</td>\n",
              "    </tr>\n",
              "    <tr>\n",
              "      <th>4</th>\n",
              "      <td>-1</td>\n",
              "      <td>-1.000000</td>\n",
              "      <td>0.376884</td>\n",
              "      <td>-0.344262</td>\n",
              "      <td>-0.292929</td>\n",
              "      <td>-0.602837</td>\n",
              "      <td>0.284650</td>\n",
              "      <td>0.887276</td>\n",
              "      <td>-0.600000</td>\n",
              "    </tr>\n",
              "  </tbody>\n",
              "</table>\n",
              "</div>"
            ],
            "text/plain": [
              "   0         1         2         3  ...         5         6         7         8\n",
              "0 -1 -0.294118  0.487437  0.180328  ... -1.000000  0.001490 -0.531170 -0.033333\n",
              "1  1 -0.882353 -0.145729  0.081967  ... -1.000000 -0.207153 -0.766866 -0.666667\n",
              "2 -1 -0.058824  0.839196  0.049180  ... -1.000000 -0.305514 -0.492741 -0.633333\n",
              "3  1 -0.882353 -0.105528  0.081967  ... -0.777778 -0.162444 -0.923997 -1.000000\n",
              "4 -1 -1.000000  0.376884 -0.344262  ... -0.602837  0.284650  0.887276 -0.600000\n",
              "\n",
              "[5 rows x 9 columns]"
            ]
          },
          "metadata": {},
          "execution_count": 1
        }
      ]
    },
    {
      "cell_type": "code",
      "metadata": {
        "colab": {
          "base_uri": "https://localhost:8080/"
        },
        "id": "nFr4TUhbvk2X",
        "outputId": "ed3131dc-060b-4525-9b09-fb5621d71234"
      },
      "source": [
        "df.info() "
      ],
      "execution_count": 2,
      "outputs": [
        {
          "output_type": "stream",
          "text": [
            "<class 'pandas.core.frame.DataFrame'>\n",
            "RangeIndex: 768 entries, 0 to 767\n",
            "Data columns (total 9 columns):\n",
            " #   Column  Non-Null Count  Dtype  \n",
            "---  ------  --------------  -----  \n",
            " 0   0       768 non-null    int64  \n",
            " 1   1       768 non-null    float64\n",
            " 2   2       768 non-null    float64\n",
            " 3   3       768 non-null    float64\n",
            " 4   4       768 non-null    float64\n",
            " 5   5       768 non-null    float64\n",
            " 6   6       768 non-null    float64\n",
            " 7   7       768 non-null    float64\n",
            " 8   8       759 non-null    float64\n",
            "dtypes: float64(8), int64(1)\n",
            "memory usage: 54.1 KB\n"
          ],
          "name": "stdout"
        }
      ]
    },
    {
      "cell_type": "code",
      "metadata": {
        "id": "Bv_aAj68vrS-"
      },
      "source": [
        "#set NaN to 0\n",
        "df.fillna(0, inplace=True)"
      ],
      "execution_count": 3,
      "outputs": []
    },
    {
      "cell_type": "code",
      "metadata": {
        "colab": {
          "base_uri": "https://localhost:8080/"
        },
        "id": "cU_VTzBrvtCG",
        "outputId": "1ac8bb65-0739-49c3-f8c9-dac61b70c8cb"
      },
      "source": [
        "df.info() "
      ],
      "execution_count": 4,
      "outputs": [
        {
          "output_type": "stream",
          "text": [
            "<class 'pandas.core.frame.DataFrame'>\n",
            "RangeIndex: 768 entries, 0 to 767\n",
            "Data columns (total 9 columns):\n",
            " #   Column  Non-Null Count  Dtype  \n",
            "---  ------  --------------  -----  \n",
            " 0   0       768 non-null    int64  \n",
            " 1   1       768 non-null    float64\n",
            " 2   2       768 non-null    float64\n",
            " 3   3       768 non-null    float64\n",
            " 4   4       768 non-null    float64\n",
            " 5   5       768 non-null    float64\n",
            " 6   6       768 non-null    float64\n",
            " 7   7       768 non-null    float64\n",
            " 8   8       768 non-null    float64\n",
            "dtypes: float64(8), int64(1)\n",
            "memory usage: 54.1 KB\n"
          ],
          "name": "stdout"
        }
      ]
    },
    {
      "cell_type": "code",
      "metadata": {
        "colab": {
          "base_uri": "https://localhost:8080/"
        },
        "id": "etnXlaHkvzCY",
        "outputId": "d3af5b09-f0f1-4379-bfc1-bb105f5c56b2"
      },
      "source": [
        "from sklearn.model_selection import train_test_split\n",
        "X=df.iloc[:,1:]\n",
        "y = df.iloc[:,0]\n",
        "\n",
        "# TRAIN and TEST SPLIT\n",
        "\n",
        "def split(X,y):\n",
        "    return train_test_split(X, y, test_size=0.20, random_state=1)\n",
        "\n",
        "X_train, X_test, y_train, y_test=split(X,y)\n",
        "\n",
        "print('X_train shape: ',X_train.shape)\n",
        "print('y_train shape: ',y_train.shape)\n",
        "\n",
        "print('X_test shape: ',X_test.shape)\n",
        "print('y_test shape: ',y_test.shape)"
      ],
      "execution_count": 5,
      "outputs": [
        {
          "output_type": "stream",
          "text": [
            "X_train shape:  (614, 8)\n",
            "y_train shape:  (614,)\n",
            "X_test shape:  (154, 8)\n",
            "y_test shape:  (154,)\n"
          ],
          "name": "stdout"
        }
      ]
    },
    {
      "cell_type": "code",
      "metadata": {
        "id": "Ch5Ioq5Rv8Zn"
      },
      "source": [
        "N=X_train.columns\n",
        "from random import seed\n",
        "from random import random\n",
        "seed(10)\n",
        "w=[random() for i in range(len(N))]\n",
        "elearn=.0001\n",
        "T=1500\n",
        "total=0\n",
        "accuracy=[]\n",
        "weights=[]\n",
        "for t in range(T):\n",
        "        for i in range(len(X_train)):\n",
        "            if y_train.iloc[i]*np.dot(X_train.iloc[i,:],w)<0:\n",
        "                activation=1\n",
        "            else:\n",
        "                activation=0\n",
        "            total=total+activation*(y_train.iloc[i]*X_train.iloc[i,:])\n",
        "        w_new=w+elearn*total\n",
        "        weights.append(w_new)\n",
        "        w=w_new\n",
        "        test_prediction = []\n",
        "        for i in range(len(X_test)):\n",
        "            if np.dot(X_test.iloc[i,:],w)>0:\n",
        "                prediction = 1\n",
        "                test_prediction.append(1)\n",
        "            else:\n",
        "                prediction = -1 \n",
        "                test_prediction.append(-1)\n",
        "        accuracy.append(accuracy_score(y_test,test_prediction))"
      ],
      "execution_count": 6,
      "outputs": []
    },
    {
      "cell_type": "code",
      "metadata": {
        "colab": {
          "base_uri": "https://localhost:8080/",
          "height": 282
        },
        "id": "CD4jEsNqwBZ_",
        "outputId": "a3e03bfd-6b01-46f0-a778-b379ee16cf03"
      },
      "source": [
        "plt.plot(range(1500),accuracy)"
      ],
      "execution_count": 7,
      "outputs": [
        {
          "output_type": "execute_result",
          "data": {
            "text/plain": [
              "[<matplotlib.lines.Line2D at 0x7f56cc717250>]"
            ]
          },
          "metadata": {},
          "execution_count": 7
        },
        {
          "output_type": "display_data",
          "data": {
            "image/png": "[encoded data removed]",
            "text/plain": [
              "<Figure size 432x288 with 1 Axes>"
            ]
          },
          "metadata": {
            "needs_background": "light"
          }
        }
      ]
    },
    {
      "cell_type": "code",
      "metadata": {
        "id": "kZ_1gAYDwDsa"
      },
      "source": [
        "w=weights[accuracy.index(max(accuracy))]\n",
        "w=np.array(w)\n",
        "test_prediction = []\n",
        "for i in range(len(X_test)):\n",
        "    if np.dot(X_test.iloc[i,:],w)>0:\n",
        "        prediction = 1\n",
        "        test_prediction.append(1)\n",
        "    else:\n",
        "        prediction = -1 \n",
        "        test_prediction.append(-1)"
      ],
      "execution_count": 9,
      "outputs": []
    },
    {
      "cell_type": "code",
      "metadata": {
        "colab": {
          "base_uri": "https://localhost:8080/"
        },
        "id": "Fv4M2c0cwIKD",
        "outputId": "d48968f9-2a31-444b-b060-c8b48249760d"
      },
      "source": [
        "print(confusion_matrix(y_test,test_prediction))\n",
        "print(classification_report(y_test,test_prediction))\n",
        "print('accuracy_score= ',accuracy_score(y_test,test_prediction))\n",
        "RMSE_test=np.sqrt(mean_squared_error(y_test, test_prediction))\n",
        "print('RMSE_test= ',RMSE_test)"
      ],
      "execution_count": 10,
      "outputs": [
        {
          "output_type": "stream",
          "text": [
            "[[37 18]\n",
            " [11 88]]\n",
            "              precision    recall  f1-score   support\n",
            "\n",
            "          -1       0.77      0.67      0.72        55\n",
            "           1       0.83      0.89      0.86        99\n",
            "\n",
            "    accuracy                           0.81       154\n",
            "   macro avg       0.80      0.78      0.79       154\n",
            "weighted avg       0.81      0.81      0.81       154\n",
            "\n",
            "accuracy_score=  0.8116883116883117\n",
            "RMSE_test=  0.8678978933300583\n"
          ],
          "name": "stdout"
        }
      ]
    },
    {
      "cell_type": "code",
      "metadata": {
        "colab": {
          "base_uri": "https://localhost:8080/"
        },
        "id": "frXv-nLdwKxd",
        "outputId": "2357b304-4d73-4f9a-958e-3c01b526d20b"
      },
      "source": [
        "from sklearn.svm import SVC\n",
        "classifier = SVC(kernel='rbf', random_state = 1)\n",
        "classifier.fit(X_train,y_train)\n",
        "Y_pred = classifier.predict(X_test)\n",
        "print(confusion_matrix(y_test,Y_pred))\n",
        "print(classification_report(y_test,Y_pred))\n",
        "print('accuracy_score= ',accuracy_score(y_test,Y_pred))\n",
        "RMSE_test=np.sqrt(mean_squared_error(y_test, Y_pred))\n",
        "print('RMSE_test= ',RMSE_test)"
      ],
      "execution_count": 11,
      "outputs": [
        {
          "output_type": "stream",
          "text": [
            "[[31 24]\n",
            " [ 8 91]]\n",
            "              precision    recall  f1-score   support\n",
            "\n",
            "          -1       0.79      0.56      0.66        55\n",
            "           1       0.79      0.92      0.85        99\n",
            "\n",
            "    accuracy                           0.79       154\n",
            "   macro avg       0.79      0.74      0.76       154\n",
            "weighted avg       0.79      0.79      0.78       154\n",
            "\n",
            "accuracy_score=  0.7922077922077922\n",
            "RMSE_test=  0.9116846116771036\n"
          ],
          "name": "stdout"
        }
      ]
    },
    {
      "cell_type": "code",
      "metadata": {
        "id": "KYZhfVuiwN5e"
      },
      "source": [
        "# loading libraries\n",
        "from sklearn import decomposition, datasets\n",
        "from sklearn import neighbors\n",
        "from sklearn.pipeline import Pipeline\n",
        "from sklearn.model_selection import GridSearchCV, cross_val_score\n",
        "from sklearn.preprocessing import StandardScaler\n",
        "\n",
        "\n",
        "# Creating an scaler object\n",
        "std_slc = StandardScaler()\n",
        "    \n",
        "# Create a pca object\n",
        "pca = decomposition.PCA()\n",
        "    \n",
        "# Create a KNN object with an L2 penalty\n",
        "KNN = neighbors.KNeighborsClassifier()\n",
        "    \n",
        "# Creating a pipeline of three steps. First, standardize the data.\n",
        "# Second, tranform the data with PCA.\n",
        "# Third, train a Decision Tree Classifier on the data.\n",
        "pipe = Pipeline(steps=[('std_slc', std_slc),\n",
        "                           ('pca', pca),\n",
        "                           ('KNN', KNN)])"
      ],
      "execution_count": 12,
      "outputs": []
    },
    {
      "cell_type": "code",
      "metadata": {
        "colab": {
          "base_uri": "https://localhost:8080/"
        },
        "id": "DlUZb09FwTn6",
        "outputId": "0955fa6f-7f15-4975-c2f1-30b43507cbc4"
      },
      "source": [
        "# Creating Parameter Space\n",
        "# Create a list of a sequence of integers from 1 to the number of features in X + 1)\n",
        "n_components = list(range(1,X.shape[1]+1,1))\n",
        "    \n",
        "# Creating lists of parameter for KNeighborsRegressor()\n",
        "n_neighbors = [2, 3, 5, 10]\n",
        "algorithm = ['auto',  'ball_tree', 'kd_tree', 'brute']\n",
        "    \n",
        "# Creating a dictionary of all the parameter options \n",
        "# Note has you can access the parameters of steps of a pipeline by using '__’\n",
        "parameters = dict(pca__n_components=n_components,\n",
        "                      KNN__n_neighbors=n_neighbors,\n",
        "                      KNN__algorithm=algorithm)\n",
        "\n",
        "# Conducting Parameter Optmization With Pipeline\n",
        "# Creating a grid search object\n",
        "modelKNN = GridSearchCV(pipe, parameters)\n",
        "    \n",
        "# Fitting the grid search\n",
        "modelKNN.fit(X, y)\n",
        "\n",
        "# Viewing The Best Parameters\n",
        "print('Best Number Of Components:', modelKNN.best_estimator_.get_params()['pca__n_components'])\n",
        "print(); print(modelKNN.best_estimator_.get_params()['KNN'])\n",
        "\n",
        "# Use Cross Validation To Evaluate Model\n",
        "CV_Result = cross_val_score(modelKNN, X, y, cv=3, n_jobs=-1, scoring='accuracy', verbose=1)\n",
        "print(); print(CV_Result)\n",
        "print(); print(CV_Result.mean())\n",
        "print(); print(CV_Result.std())"
      ],
      "execution_count": 13,
      "outputs": [
        {
          "output_type": "stream",
          "text": [
            "Best Number Of Components: 8\n",
            "\n",
            "KNeighborsClassifier(algorithm='auto', leaf_size=30, metric='minkowski',\n",
            "                     metric_params=None, n_jobs=None, n_neighbors=3, p=2,\n",
            "                     weights='uniform')\n"
          ],
          "name": "stdout"
        },
        {
          "output_type": "stream",
          "text": [
            "[Parallel(n_jobs=-1)]: Using backend LokyBackend with 2 concurrent workers.\n"
          ],
          "name": "stderr"
        },
        {
          "output_type": "stream",
          "text": [
            "\n",
            "[0.73046875 0.72265625 0.7421875 ]\n",
            "\n",
            "0.7317708333333334\n",
            "\n",
            "0.008026580733032522\n"
          ],
          "name": "stdout"
        },
        {
          "output_type": "stream",
          "text": [
            "[Parallel(n_jobs=-1)]: Done   3 out of   3 | elapsed:   17.3s finished\n"
          ],
          "name": "stderr"
        }
      ]
    },
    {
      "cell_type": "code",
      "metadata": {
        "colab": {
          "base_uri": "https://localhost:8080/"
        },
        "id": "g4dvD7nswUtT",
        "outputId": "c2674120-8fd1-4eb9-ff28-8160f1b3b99d"
      },
      "source": [
        "#modelKNN = KNeighborsClassifier()\n",
        "modelKNN.fit(X_train, y_train)\n",
        "\n",
        "y_pred1 = modelKNN.predict(X_test)\n",
        "print(confusion_matrix(y_test,y_pred1))\n",
        "print(classification_report(y_test,y_pred1))\n",
        "print('accuracy_score= ',accuracy_score(y_test,y_pred1))\n",
        "RMSE_test=np.sqrt(mean_squared_error(y_test, y_pred1))\n",
        "print('RMSE_test= ',RMSE_test)"
      ],
      "execution_count": 14,
      "outputs": [
        {
          "output_type": "stream",
          "text": [
            "[[34 21]\n",
            " [ 9 90]]\n",
            "              precision    recall  f1-score   support\n",
            "\n",
            "          -1       0.79      0.62      0.69        55\n",
            "           1       0.81      0.91      0.86        99\n",
            "\n",
            "    accuracy                           0.81       154\n",
            "   macro avg       0.80      0.76      0.78       154\n",
            "weighted avg       0.80      0.81      0.80       154\n",
            "\n",
            "accuracy_score=  0.8051948051948052\n",
            "RMSE_test=  0.8827348295047496\n"
          ],
          "name": "stdout"
        }
      ]
    }
  ]
}