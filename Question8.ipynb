{
  "nbformat": 4,
  "nbformat_minor": 0,
  "metadata": {
    "colab": {
      "name": "Question8.ipynb",
      "provenance": [],
      "authorship_tag": "ABX9TyOMygeZj7Ana/mqHw/zOAq6",
      "include_colab_link": true
    },
    "kernelspec": {
      "name": "python3",
      "display_name": "Python 3"
    },
    "language_info": {
      "name": "python"
    }
  },
  "cells": [
    {
      "cell_type": "markdown",
      "metadata": {
        "id": "view-in-github",
        "colab_type": "text"
      },
      "source": [
        "<a href=\"https://colab.research.google.com/github/SeyedMehdi110/Per-1/blob/main/Question8.ipynb\" target=\"_parent\"><img src=\"https://colab.research.google.com/assets/colab-badge.svg\" alt=\"Open In Colab\"/></a>"
      ]
    },
    {
      "cell_type": "code",
      "metadata": {
        "id": "eBcE81SVfjDw"
      },
      "source": [
        "#importing required libraries \n",
        "import numpy as np\n",
        "import pandas as pd\n",
        "from sklearn.model_selection import train_test_split\n",
        "import cvxpy as cp\n",
        "from sklearn.metrics import accuracy_score "
      ],
      "execution_count": 1,
      "outputs": []
    },
    {
      "cell_type": "code",
      "metadata": {
        "id": "FqynSL1efmh-"
      },
      "source": [
        "#reading data\n",
        "dataframe = pd.read_csv('train.csv',header = None)\n",
        "\n",
        "dataframe[0].replace(0, -1,inplace = True)\n",
        "y = dataframe[0]\n",
        "X = dataframe.drop([0], axis=1)\n",
        "\n",
        "#splitting data\n",
        "data_train, data_val, label_train, label_val = train_test_split(X, y, test_size=0.42, random_state=1)\n",
        "\n",
        "#importing test data\n",
        "test_set = pd.read_csv('test.csv',header = None)\n",
        "test_set[0].replace(0, -1,inplace = True)\n",
        "\n",
        "label_test = test_set[0]\n",
        "data_test = test_set.drop([0], axis=1)\n",
        "\n",
        "\n",
        "data_train=np.array(data_train)\n",
        "data_test=np.array(data_test)\n",
        "data_val=np.array(data_val)\n",
        "\n",
        "label_train = np.array(label_train)\n",
        "label_test = np.array(label_test)\n",
        "label_val = np.array(label_val)\n"
      ],
      "execution_count": 2,
      "outputs": []
    },
    {
      "cell_type": "code",
      "metadata": {
        "colab": {
          "base_uri": "https://localhost:8080/"
        },
        "id": "bj1TPPwHf0Z8",
        "outputId": "13458b90-fc3d-4a7c-f89c-07e9fd49a809"
      },
      "source": [
        "from sklearn.model_selection import RandomizedSearchCV\n",
        "from scipy import stats\n",
        "#SVM model \n",
        "from sklearn.svm import SVC \n",
        "#Divide the data in training and split \n",
        "from sklearn.model_selection import train_test_split\n",
        "from sklearn.pipeline import make_pipeline # library to make a pipeline\n",
        "svc = SVC(kernel='linear', class_weight='balanced')\n",
        "model= make_pipeline(svc)#We build of model with svc\n",
        "\n",
        "n_iter_search =20\n",
        "#using stats to give a range of  samples of parameters that will be tested \n",
        "param_distributions = {'svc__C':  [2e-10, 2e-8, 2e-6,2e-4,2e-2,1,2,2e2,2e4,2e6,2e8,2e10],\n",
        "              'svc__gamma': stats.uniform(0.1,1.0)}\n",
        "random_search = RandomizedSearchCV(model, param_distributions, \n",
        "                                   n_iter=n_iter_search, cv=5)\n",
        "#Checking how many time takes to find the optimum values \n",
        "%time random_search.fit(data_train, label_train)\n",
        "print('best parameters',random_search.best_params_)"
      ],
      "execution_count": 5,
      "outputs": [
        {
          "output_type": "stream",
          "name": "stdout",
          "text": [
            "CPU times: user 20.1 s, sys: 35.6 ms, total: 20.1 s\n",
            "Wall time: 20 s\n",
            "best parameters {'svc__C': 0.0002, 'svc__gamma': 0.2921984084132414}\n"
          ]
        }
      ]
    },
    {
      "cell_type": "code",
      "metadata": {
        "colab": {
          "base_uri": "https://localhost:8080/"
        },
        "id": "qxhYjUq5gufb",
        "outputId": "afbb4bcb-b6a6-4182-a857-fd3775e3cdb5"
      },
      "source": [
        "from sklearn.model_selection import train_test_split\n",
        "from sklearn.svm import SVC\n",
        "svclassifier = SVC(C=0.0002,kernel='linear',gamma= 0.2921984084132414)\n",
        "svclassifier.fit(data_train, label_train)\n",
        "\n",
        "y_pred = svclassifier.predict(data_test)\n",
        "\n",
        "\n",
        "from sklearn.metrics import classification_report, confusion_matrix\n",
        "print(confusion_matrix(label_test,y_pred))\n",
        "print(classification_report(label_test,y_pred))\n",
        "print(accuracy_score(label_test,y_pred))"
      ],
      "execution_count": 6,
      "outputs": [
        {
          "output_type": "stream",
          "name": "stdout",
          "text": [
            "[[711  48]\n",
            " [  8 733]]\n",
            "              precision    recall  f1-score   support\n",
            "\n",
            "        -1.0       0.99      0.94      0.96       759\n",
            "         1.0       0.94      0.99      0.96       741\n",
            "\n",
            "    accuracy                           0.96      1500\n",
            "   macro avg       0.96      0.96      0.96      1500\n",
            "weighted avg       0.96      0.96      0.96      1500\n",
            "\n",
            "0.9626666666666667\n"
          ]
        }
      ]
    }
  ]
}