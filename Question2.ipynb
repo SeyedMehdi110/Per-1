{
  "nbformat": 4,
  "nbformat_minor": 0,
  "metadata": {
    "colab": {
      "name": "Question2.ipynb",
      "provenance": [],
      "authorship_tag": "ABX9TyM76u2tRV2nPqUXWDtwamau",
      "include_colab_link": true
    },
    "kernelspec": {
      "name": "python3",
      "display_name": "Python 3"
    },
    "language_info": {
      "name": "python"
    }
  },
  "cells": [
    {
      "cell_type": "markdown",
      "metadata": {
        "id": "view-in-github",
        "colab_type": "text"
      },
      "source": [
        "<a href=\"https://colab.research.google.com/github/SeyedMehdi110/Per-1/blob/main/Question2.ipynb\" target=\"_parent\"><img src=\"https://colab.research.google.com/assets/colab-badge.svg\" alt=\"Open In Colab\"/></a>"
      ]
    },
    {
      "cell_type": "code",
      "metadata": {
        "id": "od2SNYSkCdln"
      },
      "source": [
        "#importing required libraries \n",
        "import numpy as np\n",
        "import pandas as pd\n",
        "from sklearn.model_selection import train_test_split\n",
        "import cvxpy as cp\n",
        "from sklearn.metrics import accuracy_score "
      ],
      "execution_count": 1,
      "outputs": []
    },
    {
      "cell_type": "code",
      "metadata": {
        "id": "-sZ0gKKhDYac"
      },
      "source": [
        "#reading data\n",
        "dataframe = pd.read_csv('train.csv',header = None)\n",
        "\n",
        "dataframe[0].replace(0, -1,inplace = True)\n",
        "y = dataframe[0]\n",
        "X = dataframe.drop([0], axis=1)\n",
        "\n",
        "#splitting data\n",
        "data_train, data_val, label_train, label_val = train_test_split(X, y, test_size=0.42, random_state=1)\n",
        "\n",
        "#importing test data\n",
        "test_set = pd.read_csv('test.csv',header = None)\n",
        "test_set[0].replace(0, -1,inplace = True)\n",
        "\n",
        "label_test = test_set[0]\n",
        "data_test = test_set.drop([0], axis=1)\n",
        "\n",
        "data_train=np.array(data_train)\n",
        "data_test=np.array(data_test)\n",
        "data_val=np.array(data_val)\n",
        "\n",
        "label_train = np.array(label_train)\n",
        "label_test = np.array(label_test)\n",
        "label_val = np.array(label_val)"
      ],
      "execution_count": 74,
      "outputs": []
    },
    {
      "cell_type": "code",
      "metadata": {
        "id": "woI5dQ_UDgF4"
      },
      "source": [
        "#implementing Primal\n",
        "def sign(x):\n",
        "    if x < 0:\n",
        "        return -1\n",
        "    return 1\n",
        "#training function\n",
        "def svm_train_primal(data_train , label_train , regularisation_para_C ):\n",
        "    data_train = np.c_[data_train, np.ones(data_train.shape[0])]\n",
        "    n, col = data_train.shape  #assigng n and col to the shape of data\n",
        "    w = cp.Variable(col) #defining the weight \n",
        "    e = cp.Variable(n)   # ξi \n",
        "    P = np.identity(col) #identity matrix\n",
        "    q = np.ones(n)       # creating a vector of ones oadding ξi together\n",
        "    b=cp.Variable()\n",
        "    \n",
        "    \n",
        "    ##creating the primal problem using cvxpy\n",
        "    prob = cp.Problem(cp.Minimize((1/2)*cp.quad_form(w, P) + (regularisation_para_C/n)*q.T @ e),\n",
        "                     [-1*(label_train*(w.T @ data_train.T))-b*label_train<= e-1,\n",
        "                      -e <= np.zeros(n)])\n",
        "    prob.solve(verbose=True)\n",
        "\n",
        "\n",
        "    return w.value,b.value,e.value\n",
        "#prediction and calculating accuracy function\n",
        "def svm_predict_primal(data_test , label_test , svm_model):\n",
        "    data_test = np.c_[data_test, np.ones(data_test.shape[0])]\n",
        "    pred = data_test @ svm_model\n",
        "    prediction = []\n",
        "    for i in pred:\n",
        "        prediction.append(sign(i))\n",
        "    prediction = np.array(prediction)\n",
        "    acc = accuracy_score(label_test,prediction)\n",
        "    return acc"
      ],
      "execution_count": 75,
      "outputs": []
    },
    {
      "cell_type": "code",
      "metadata": {
        "colab": {
          "base_uri": "https://localhost:8080/"
        },
        "id": "Y6R8vODlDuCi",
        "outputId": "b393d3e7-e658-4bf6-b0a5-e68e169911cb"
      },
      "source": [
        "svm_model = svm_train_primal ( data_train , label_train , 100 )\n",
        "\n",
        "test_accuracy = svm_predict_primal ( data_test , label_test , svm_model[0] )\n"
      ],
      "execution_count": 76,
      "outputs": [
        {
          "output_type": "stream",
          "name": "stdout",
          "text": [
            "-----------------------------------------------------------------\n",
            "           OSQP v0.6.2  -  Operator Splitting QP Solver\n",
            "              (c) Bartolomeo Stellato,  Goran Banjac\n",
            "        University of Oxford  -  Stanford University 2021\n",
            "-----------------------------------------------------------------\n",
            "problem:  variables n = 5132, constraints m = 9860\n",
            "          nnz(P) + nnz(A) = 1005921\n",
            "settings: linear system solver = qdldl,\n",
            "          eps_abs = 1.0e-05, eps_rel = 1.0e-05,\n",
            "          eps_prim_inf = 1.0e-04, eps_dual_inf = 1.0e-04,\n",
            "          rho = 1.00e-01 (adaptive),\n",
            "          sigma = 1.00e-06, alpha = 1.60, max_iter = 10000\n",
            "          check_termination: on (interval 25),\n",
            "          scaling: on, scaled_termination: off\n",
            "          warm start: on, polish: on, time_limit: off\n",
            "\n",
            "iter   objective    pri res    dua res    rho        time\n",
            "   1  -1.6000e+03   1.60e+01   1.00e+01   1.00e-01   1.02e+00s\n",
            " 125   2.2886e-09   5.05e-10   5.54e-14   2.12e-03   4.94e+00s\n",
            "plsh   2.2980e-09   3.00e-16   2.28e-09   --------   5.95e+00s\n",
            "\n",
            "status:               solved\n",
            "solution polish:      successful\n",
            "number of iterations: 125\n",
            "optimal objective:    0.0000\n",
            "run time:             5.95e+00s\n",
            "optimal rho estimate: 2.65e-01\n",
            "\n"
          ]
        }
      ]
    },
    {
      "cell_type": "code",
      "metadata": {
        "colab": {
          "base_uri": "https://localhost:8080/"
        },
        "id": "dCtKjUE5YgQ9",
        "outputId": "b7840f75-8bba-4a7d-ad69-380ffa25f4b8"
      },
      "source": [
        "#printing out results\n",
        "weights=svm_model[0]\n",
        "b=svm_model[1]\n",
        "train_acc = svm_predict_primal(data_train, label_train, weights)\n",
        "val_acc = svm_predict_primal(data_val, label_val, weights)\n",
        "test_acc = svm_predict_primal(data_test, label_test, weights)\n",
        "\n",
        "print(\"Optimal b= \",b)\n",
        "print(\"Sum of weights= \",np.sum(weights))\n",
        "print(\"Train Accuracy= \",train_acc)\n",
        "print(\"Validation Accuracy= \",val_acc)\n",
        "print(\"Test Accuracy= \",test_acc)"
      ],
      "execution_count": 77,
      "outputs": [
        {
          "output_type": "stream",
          "name": "stdout",
          "text": [
            "Optimal b=  -3.070594966624755e-20\n",
            "Sum of weights=  1.7743839584838565e-06\n",
            "Train Accuracy=  0.8655172413793103\n",
            "Validation Accuracy=  0.8588235294117647\n",
            "Test Accuracy=  0.8666666666666667\n"
          ]
        }
      ]
    },
    {
      "cell_type": "code",
      "metadata": {
        "colab": {
          "base_uri": "https://localhost:8080/"
        },
        "id": "NiFfT_Pbyp4P",
        "outputId": "e6eae39e-fe36-4df3-87bb-863ac62579e7"
      },
      "source": [
        "weights[1]"
      ],
      "execution_count": 8,
      "outputs": [
        {
          "output_type": "execute_result",
          "data": {
            "text/plain": [
              "1.67796532907901e-07"
            ]
          },
          "metadata": {},
          "execution_count": 8
        }
      ]
    },
    {
      "cell_type": "code",
      "metadata": {
        "id": "98Ncx1DjwSXj"
      },
      "source": [
        "data_train = np.c_[data_train, np.ones(data_train.shape[0])]\n",
        "e=svm_model[2]\n",
        "n, col = data_train.shape\n",
        "SVM=[]\n",
        "for i in range(n):\n",
        "  if np.abs((label_train[i]*(weights.T @ data_train[i].T))+b*label_train[i]-1+e[i])<= 0.0001:\n",
        "    SVM.append(data_train[i])"
      ],
      "execution_count": 70,
      "outputs": []
    },
    {
      "cell_type": "code",
      "metadata": {
        "colab": {
          "base_uri": "https://localhost:8080/"
        },
        "id": "92a7oc8Q4tvs",
        "outputId": "dd871dac-9c73-4030-e507-4369087ceeba"
      },
      "source": [
        "SVM"
      ],
      "execution_count": 71,
      "outputs": [
        {
          "output_type": "execute_result",
          "data": {
            "text/plain": [
              "[]"
            ]
          },
          "metadata": {},
          "execution_count": 71
        }
      ]
    }
  ]
}