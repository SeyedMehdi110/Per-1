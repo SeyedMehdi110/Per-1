{
  "nbformat": 4,
  "nbformat_minor": 0,
  "metadata": {
    "colab": {
      "name": "Perceptron.ipynb",
      "provenance": [],
      "authorship_tag": "ABX9TyMPHqjTZ42cwdZpRFRDBhfQ",
      "include_colab_link": true
    },
    "kernelspec": {
      "name": "python3",
      "display_name": "Python 3"
    },
    "language_info": {
      "name": "python"
    },
    "accelerator": "GPU"
  },
  "cells": [
    {
      "cell_type": "markdown",
      "metadata": {
        "id": "view-in-github",
        "colab_type": "text"
      },
      "source": [
        "<a href=\"https://colab.research.google.com/github/SeyedMehdi110/Per-1/blob/main/Perceptron.ipynb\" target=\"_parent\"><img src=\"https://colab.research.google.com/assets/colab-badge.svg\" alt=\"Open In Colab\"/></a>"
      ]
    },
    {
      "cell_type": "code",
      "metadata": {
        "colab": {
          "base_uri": "https://localhost:8080/",
          "height": 204
        },
        "id": "E_eRi2h6-e39",
        "outputId": "25e54b08-f064-4744-85d0-bbb77b7366b8"
      },
      "source": [
        "#importing pandas and numpy libraries\n",
        "import pandas as pd\n",
        "import numpy as np\n",
        "\n",
        "#Read the data from  www.csie.ntu.edu site\n",
        "df=pd.read_table('https://www.csie.ntu.edu.tw/~cjlin/libsvmtools/datasets/binary/diabetes_scale',\n",
        "              sep=r'\\s+\\d+:', engine='python', header=None).loc[:,:]\n",
        "#showing first 5 rows of our data\n",
        "df.head()"
      ],
      "execution_count": 1,
      "outputs": [
        {
          "output_type": "execute_result",
          "data": {
            "text/html": [
              "<div>\n",
              "<style scoped>\n",
              "    .dataframe tbody tr th:only-of-type {\n",
              "        vertical-align: middle;\n",
              "    }\n",
              "\n",
              "    .dataframe tbody tr th {\n",
              "        vertical-align: top;\n",
              "    }\n",
              "\n",
              "    .dataframe thead th {\n",
              "        text-align: right;\n",
              "    }\n",
              "</style>\n",
              "<table border=\"1\" class=\"dataframe\">\n",
              "  <thead>\n",
              "    <tr style=\"text-align: right;\">\n",
              "      <th></th>\n",
              "      <th>0</th>\n",
              "      <th>1</th>\n",
              "      <th>2</th>\n",
              "      <th>3</th>\n",
              "      <th>4</th>\n",
              "      <th>5</th>\n",
              "      <th>6</th>\n",
              "      <th>7</th>\n",
              "      <th>8</th>\n",
              "    </tr>\n",
              "  </thead>\n",
              "  <tbody>\n",
              "    <tr>\n",
              "      <th>0</th>\n",
              "      <td>-1</td>\n",
              "      <td>-0.294118</td>\n",
              "      <td>0.487437</td>\n",
              "      <td>0.180328</td>\n",
              "      <td>-0.292929</td>\n",
              "      <td>-1.000000</td>\n",
              "      <td>0.001490</td>\n",
              "      <td>-0.531170</td>\n",
              "      <td>-0.033333</td>\n",
              "    </tr>\n",
              "    <tr>\n",
              "      <th>1</th>\n",
              "      <td>1</td>\n",
              "      <td>-0.882353</td>\n",
              "      <td>-0.145729</td>\n",
              "      <td>0.081967</td>\n",
              "      <td>-0.414141</td>\n",
              "      <td>-1.000000</td>\n",
              "      <td>-0.207153</td>\n",
              "      <td>-0.766866</td>\n",
              "      <td>-0.666667</td>\n",
              "    </tr>\n",
              "    <tr>\n",
              "      <th>2</th>\n",
              "      <td>-1</td>\n",
              "      <td>-0.058824</td>\n",
              "      <td>0.839196</td>\n",
              "      <td>0.049180</td>\n",
              "      <td>-1.000000</td>\n",
              "      <td>-1.000000</td>\n",
              "      <td>-0.305514</td>\n",
              "      <td>-0.492741</td>\n",
              "      <td>-0.633333</td>\n",
              "    </tr>\n",
              "    <tr>\n",
              "      <th>3</th>\n",
              "      <td>1</td>\n",
              "      <td>-0.882353</td>\n",
              "      <td>-0.105528</td>\n",
              "      <td>0.081967</td>\n",
              "      <td>-0.535354</td>\n",
              "      <td>-0.777778</td>\n",
              "      <td>-0.162444</td>\n",
              "      <td>-0.923997</td>\n",
              "      <td>-1.000000</td>\n",
              "    </tr>\n",
              "    <tr>\n",
              "      <th>4</th>\n",
              "      <td>-1</td>\n",
              "      <td>-1.000000</td>\n",
              "      <td>0.376884</td>\n",
              "      <td>-0.344262</td>\n",
              "      <td>-0.292929</td>\n",
              "      <td>-0.602837</td>\n",
              "      <td>0.284650</td>\n",
              "      <td>0.887276</td>\n",
              "      <td>-0.600000</td>\n",
              "    </tr>\n",
              "  </tbody>\n",
              "</table>\n",
              "</div>"
            ],
            "text/plain": [
              "   0         1         2         3  ...         5         6         7         8\n",
              "0 -1 -0.294118  0.487437  0.180328  ... -1.000000  0.001490 -0.531170 -0.033333\n",
              "1  1 -0.882353 -0.145729  0.081967  ... -1.000000 -0.207153 -0.766866 -0.666667\n",
              "2 -1 -0.058824  0.839196  0.049180  ... -1.000000 -0.305514 -0.492741 -0.633333\n",
              "3  1 -0.882353 -0.105528  0.081967  ... -0.777778 -0.162444 -0.923997 -1.000000\n",
              "4 -1 -1.000000  0.376884 -0.344262  ... -0.602837  0.284650  0.887276 -0.600000\n",
              "\n",
              "[5 rows x 9 columns]"
            ]
          },
          "metadata": {},
          "execution_count": 1
        }
      ]
    },
    {
      "cell_type": "code",
      "metadata": {
        "colab": {
          "base_uri": "https://localhost:8080/"
        },
        "id": "uhke5mHGX8ZC",
        "outputId": "1cae9a90-38c7-4e17-95b4-4d59a381effb"
      },
      "source": [
        "df.info() "
      ],
      "execution_count": 2,
      "outputs": [
        {
          "output_type": "stream",
          "text": [
            "<class 'pandas.core.frame.DataFrame'>\n",
            "RangeIndex: 768 entries, 0 to 767\n",
            "Data columns (total 9 columns):\n",
            " #   Column  Non-Null Count  Dtype  \n",
            "---  ------  --------------  -----  \n",
            " 0   0       768 non-null    int64  \n",
            " 1   1       768 non-null    float64\n",
            " 2   2       768 non-null    float64\n",
            " 3   3       768 non-null    float64\n",
            " 4   4       768 non-null    float64\n",
            " 5   5       768 non-null    float64\n",
            " 6   6       768 non-null    float64\n",
            " 7   7       768 non-null    float64\n",
            " 8   8       759 non-null    float64\n",
            "dtypes: float64(8), int64(1)\n",
            "memory usage: 54.1 KB\n"
          ],
          "name": "stdout"
        }
      ]
    },
    {
      "cell_type": "code",
      "metadata": {
        "colab": {
          "base_uri": "https://localhost:8080/"
        },
        "id": "GG01zJWMYA9Z",
        "outputId": "2dc76a80-45d9-4d40-ff6b-0d79fa83cc7f"
      },
      "source": [
        "df.isnull().sum()     # is there any NULL variable in the dataset?"
      ],
      "execution_count": 4,
      "outputs": [
        {
          "output_type": "execute_result",
          "data": {
            "text/plain": [
              "0    0\n",
              "1    0\n",
              "2    0\n",
              "3    0\n",
              "4    0\n",
              "5    0\n",
              "6    0\n",
              "7    0\n",
              "8    9\n",
              "dtype: int64"
            ]
          },
          "metadata": {},
          "execution_count": 4
        }
      ]
    },
    {
      "cell_type": "code",
      "metadata": {
        "id": "8EnSj_rWYTvw"
      },
      "source": [
        "#set NaN to 0\n",
        "df.fillna(0, inplace=True)"
      ],
      "execution_count": 5,
      "outputs": []
    },
    {
      "cell_type": "code",
      "metadata": {
        "colab": {
          "base_uri": "https://localhost:8080/"
        },
        "id": "84sOMzx7HNLs",
        "outputId": "22d1329b-3de1-4370-ee38-ddfd07514f53"
      },
      "source": [
        "#Importing train_test_split from sklearn library\n",
        "\n",
        "from sklearn.model_selection import train_test_split\n",
        "X=df.loc[:,1:]\n",
        "y = df.loc[:,0:0]\n",
        "\n",
        "# TRAIN and TEST SPLIT\n",
        "def split(X,y):\n",
        "    return train_test_split(X, y, test_size=0.20, random_state=1)\n",
        "\n",
        "X_train, X_test, y_train, y_test=split(X,y)\n",
        "\n",
        "print('X_train shape: ',X_train.shape)\n",
        "print('y_train shape: ',y_train.shape)\n",
        "\n",
        "print('X_test shape: ',X_test.shape)\n",
        "print('y_test shape: ',y_test.shape)"
      ],
      "execution_count": 6,
      "outputs": [
        {
          "output_type": "stream",
          "text": [
            "X_train shape:  (614, 8)\n",
            "y_train shape:  (614, 1)\n",
            "X_test shape:  (154, 8)\n",
            "y_test shape:  (154, 1)\n"
          ],
          "name": "stdout"
        }
      ]
    },
    {
      "cell_type": "code",
      "metadata": {
        "colab": {
          "base_uri": "https://localhost:8080/"
        },
        "id": "fS6RnegIHSHJ",
        "outputId": "b1faebcf-7c5f-4c6b-9fbf-807f6f2e753a"
      },
      "source": [
        "# N= Number of our data features\n",
        "N=X_train.columns\n",
        "\n",
        "#import random and seed libraries\n",
        "from random import seed\n",
        "from random import random\n",
        "seed(10)\n",
        "#randomize weight our first weight for perceptron\n",
        "w=[random() for i in range(len(N))]\n",
        "#Initializing elearn and number of iteration\n",
        "elearn=.01\n",
        "T=10\n",
        "total=0\n",
        "\n",
        "# Perceptron Model creation\n",
        "for t in range(T):\n",
        "        for i in range(len(X_train)):\n",
        "            if y_train.iloc[i,0]*np.dot(X_train.iloc[i,::],w)<0:\n",
        "                activation=1\n",
        "            else:\n",
        "                activation=0\n",
        "            total=total+activation*(y_train.iloc[i,0]*X_train.iloc[i,::])\n",
        "            total=total.iloc[0]\n",
        "        w_new=w+elearn*total\n",
        "        w=w_new\n",
        "count=0        \n",
        "\n",
        "\n",
        "#Testing our dataset\n",
        "for i in range(len(X_test)):\n",
        "    if np.dot(X_test.iloc[i,::],w)>0:\n",
        "        prediction = 1\n",
        "    else:\n",
        "        prediction = -1  \n",
        "    print(\"Expected=%d, Predicted=%d\" % (y_test.iloc[i,0], prediction))\n",
        "    if y_test.iloc[i,0]== prediction:\n",
        "        count=count+1"
      ],
      "execution_count": 7,
      "outputs": [
        {
          "output_type": "stream",
          "text": [
            "Expected=1, Predicted=1\n",
            "Expected=1, Predicted=1\n",
            "Expected=1, Predicted=1\n",
            "Expected=1, Predicted=1\n",
            "Expected=1, Predicted=1\n",
            "Expected=1, Predicted=1\n",
            "Expected=1, Predicted=1\n",
            "Expected=1, Predicted=1\n",
            "Expected=1, Predicted=1\n",
            "Expected=1, Predicted=1\n",
            "Expected=1, Predicted=1\n",
            "Expected=1, Predicted=1\n",
            "Expected=-1, Predicted=-1\n",
            "Expected=-1, Predicted=1\n",
            "Expected=1, Predicted=1\n",
            "Expected=-1, Predicted=1\n",
            "Expected=-1, Predicted=1\n",
            "Expected=1, Predicted=1\n",
            "Expected=1, Predicted=1\n",
            "Expected=1, Predicted=1\n",
            "Expected=-1, Predicted=1\n",
            "Expected=-1, Predicted=1\n",
            "Expected=-1, Predicted=-1\n",
            "Expected=-1, Predicted=1\n",
            "Expected=1, Predicted=1\n",
            "Expected=1, Predicted=1\n",
            "Expected=1, Predicted=1\n",
            "Expected=-1, Predicted=1\n",
            "Expected=1, Predicted=1\n",
            "Expected=-1, Predicted=1\n",
            "Expected=-1, Predicted=1\n",
            "Expected=1, Predicted=1\n",
            "Expected=1, Predicted=1\n",
            "Expected=-1, Predicted=1\n",
            "Expected=1, Predicted=1\n",
            "Expected=-1, Predicted=1\n",
            "Expected=1, Predicted=1\n",
            "Expected=1, Predicted=1\n",
            "Expected=1, Predicted=1\n",
            "Expected=1, Predicted=1\n",
            "Expected=1, Predicted=1\n",
            "Expected=1, Predicted=1\n",
            "Expected=1, Predicted=1\n",
            "Expected=-1, Predicted=1\n",
            "Expected=1, Predicted=1\n",
            "Expected=1, Predicted=1\n",
            "Expected=-1, Predicted=1\n",
            "Expected=-1, Predicted=1\n",
            "Expected=1, Predicted=1\n",
            "Expected=-1, Predicted=1\n",
            "Expected=1, Predicted=1\n",
            "Expected=1, Predicted=1\n",
            "Expected=-1, Predicted=1\n",
            "Expected=1, Predicted=1\n",
            "Expected=-1, Predicted=1\n",
            "Expected=1, Predicted=1\n",
            "Expected=-1, Predicted=1\n",
            "Expected=1, Predicted=1\n",
            "Expected=1, Predicted=1\n",
            "Expected=1, Predicted=1\n",
            "Expected=1, Predicted=1\n",
            "Expected=1, Predicted=1\n",
            "Expected=-1, Predicted=1\n",
            "Expected=1, Predicted=1\n",
            "Expected=-1, Predicted=1\n",
            "Expected=1, Predicted=1\n",
            "Expected=-1, Predicted=1\n",
            "Expected=-1, Predicted=1\n",
            "Expected=1, Predicted=1\n",
            "Expected=-1, Predicted=1\n",
            "Expected=-1, Predicted=1\n",
            "Expected=1, Predicted=1\n",
            "Expected=1, Predicted=1\n",
            "Expected=1, Predicted=1\n",
            "Expected=-1, Predicted=1\n",
            "Expected=-1, Predicted=1\n",
            "Expected=-1, Predicted=1\n",
            "Expected=1, Predicted=1\n",
            "Expected=1, Predicted=1\n",
            "Expected=-1, Predicted=1\n",
            "Expected=-1, Predicted=1\n",
            "Expected=1, Predicted=1\n",
            "Expected=-1, Predicted=1\n",
            "Expected=-1, Predicted=1\n",
            "Expected=1, Predicted=1\n",
            "Expected=1, Predicted=1\n",
            "Expected=-1, Predicted=1\n",
            "Expected=1, Predicted=1\n",
            "Expected=1, Predicted=1\n",
            "Expected=1, Predicted=1\n",
            "Expected=1, Predicted=1\n",
            "Expected=1, Predicted=1\n",
            "Expected=1, Predicted=1\n",
            "Expected=1, Predicted=1\n",
            "Expected=-1, Predicted=1\n",
            "Expected=1, Predicted=1\n",
            "Expected=1, Predicted=1\n",
            "Expected=1, Predicted=1\n",
            "Expected=-1, Predicted=1\n",
            "Expected=1, Predicted=1\n",
            "Expected=1, Predicted=1\n",
            "Expected=1, Predicted=1\n",
            "Expected=-1, Predicted=1\n",
            "Expected=1, Predicted=1\n",
            "Expected=1, Predicted=1\n",
            "Expected=1, Predicted=1\n",
            "Expected=-1, Predicted=1\n",
            "Expected=1, Predicted=1\n",
            "Expected=-1, Predicted=1\n",
            "Expected=1, Predicted=1\n",
            "Expected=-1, Predicted=1\n",
            "Expected=1, Predicted=1\n",
            "Expected=1, Predicted=1\n",
            "Expected=1, Predicted=1\n",
            "Expected=-1, Predicted=1\n",
            "Expected=1, Predicted=1\n",
            "Expected=1, Predicted=1\n",
            "Expected=-1, Predicted=1\n",
            "Expected=1, Predicted=1\n",
            "Expected=-1, Predicted=1\n",
            "Expected=1, Predicted=1\n",
            "Expected=-1, Predicted=1\n",
            "Expected=-1, Predicted=1\n",
            "Expected=1, Predicted=1\n",
            "Expected=1, Predicted=1\n",
            "Expected=1, Predicted=1\n",
            "Expected=1, Predicted=1\n",
            "Expected=-1, Predicted=1\n",
            "Expected=1, Predicted=1\n",
            "Expected=1, Predicted=1\n",
            "Expected=-1, Predicted=1\n",
            "Expected=1, Predicted=1\n",
            "Expected=-1, Predicted=1\n",
            "Expected=1, Predicted=1\n",
            "Expected=1, Predicted=1\n",
            "Expected=1, Predicted=1\n",
            "Expected=1, Predicted=1\n",
            "Expected=1, Predicted=1\n",
            "Expected=-1, Predicted=1\n",
            "Expected=1, Predicted=1\n",
            "Expected=-1, Predicted=1\n",
            "Expected=1, Predicted=1\n",
            "Expected=1, Predicted=1\n",
            "Expected=-1, Predicted=1\n",
            "Expected=-1, Predicted=1\n",
            "Expected=-1, Predicted=1\n",
            "Expected=1, Predicted=1\n",
            "Expected=1, Predicted=1\n",
            "Expected=-1, Predicted=1\n",
            "Expected=1, Predicted=1\n",
            "Expected=1, Predicted=1\n",
            "Expected=-1, Predicted=1\n",
            "Expected=1, Predicted=1\n",
            "Expected=1, Predicted=1\n"
          ],
          "name": "stdout"
        }
      ]
    },
    {
      "cell_type": "code",
      "metadata": {
        "colab": {
          "base_uri": "https://localhost:8080/"
        },
        "id": "QbXYN6OHHWAX",
        "outputId": "abaa55f7-9180-4e2f-992e-79671e4cd49f"
      },
      "source": [
        "accuracy=count*100/len(y_test)\n",
        "print('Perceptron accuracy= ',accuracy, '%')"
      ],
      "execution_count": 8,
      "outputs": [
        {
          "output_type": "stream",
          "text": [
            "Perceptron accuracy=  65.58441558441558 %\n"
          ],
          "name": "stdout"
        }
      ]
    }
  ]
}